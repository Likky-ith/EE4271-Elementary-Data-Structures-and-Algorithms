{
  "nbformat": 4,
  "nbformat_minor": 0,
  "metadata": {
    "colab": {
      "name": "assignment1_ee19b025.ipynb",
      "provenance": [],
      "collapsed_sections": [
        "nZNJ6FgqZVIu"
      ],
      "authorship_tag": "ABX9TyMdkn+8wrQ8BLmuORy9TBlh",
      "include_colab_link": true
    },
    "kernelspec": {
      "name": "python3",
      "display_name": "Python 3"
    }
  },
  "cells": [
    {
      "cell_type": "markdown",
      "metadata": {
        "id": "view-in-github",
        "colab_type": "text"
      },
      "source": [
        "<a href=\"https://colab.research.google.com/github/antonson-j1/nothing-just-my-personal/blob/master/assignment1_ee19b025.ipynb\" target=\"_parent\"><img src=\"https://colab.research.google.com/assets/colab-badge.svg\" alt=\"Open In Colab\"/></a>"
      ]
    },
    {
      "cell_type": "markdown",
      "metadata": {
        "id": "bXzoxhKVArPQ",
        "colab_type": "text"
      },
      "source": [
        "## ***EE4371 Assignment-1 by J Antonson (ee19b025)***"
      ]
    },
    {
      "cell_type": "markdown",
      "metadata": {
        "id": "9eQ4dIZl6ywy",
        "colab_type": "text"
      },
      "source": [
        "# Problem 1a\n",
        "Write a Python function that takes a positive integer n, and returns the sum of the squares of all the positive integers smaller than n."
      ]
    },
    {
      "cell_type": "code",
      "metadata": {
        "id": "n8sVoCrf6E4G",
        "colab_type": "code",
        "colab": {}
      },
      "source": [
        "# sqr function to find out the sum of squares of integers less than m\n",
        "def sqr(m):                  # function definition starts\n",
        "    a=0                   \n",
        "    for i in range(1,m):     # loop through all the values of all i with i<m & i>0 condition satisfied\n",
        "        a= a + i**2          # take the square of i and add it to 'a'\n",
        "    return a                 # returns the sum of the squares of all the positive integers smaller than m"
      ],
      "execution_count": null,
      "outputs": []
    },
    {
      "cell_type": "code",
      "metadata": {
        "id": "byj4hIZf7cIc",
        "colab_type": "code",
        "colab": {
          "base_uri": "https://localhost:8080/",
          "height": 50
        },
        "outputId": "5e2310c0-9c87-42cb-983e-e740e09f0136"
      },
      "source": [
        "number = int(input())\n",
        "print(\"The sum of squares of positive integers less than {} is \".format(number) + str(sqr(number)))"
      ],
      "execution_count": null,
      "outputs": [
        {
          "output_type": "stream",
          "text": [
            "5\n",
            "The sum of squares of positive integers less than 5 is 30\n"
          ],
          "name": "stdout"
        }
      ]
    },
    {
      "cell_type": "markdown",
      "metadata": {
        "id": "-s0nGwQA8ArC",
        "colab_type": "text"
      },
      "source": [
        "# Problem 1b\n",
        "*Write a Python function that takes a positive integer n, and returns the sum of the squares of all the odd positive integers smaller than n*\n"
      ]
    },
    {
      "cell_type": "code",
      "metadata": {
        "id": "jK1qLnST8XaF",
        "colab_type": "code",
        "colab": {}
      },
      "source": [
        "# osqr function to find out the sum of squares of all ODD integers less than m\n",
        "\n",
        "def osqr(m):                    # function definition starts\n",
        "    a=0\n",
        "    for i in range(1,m,2):      # loop through all the values of all ODD i with i<m & i>0 condition satisfied\n",
        "        a = a + i**2            # take the square of i and add it to 'a'\n",
        "    return a                    # returns the sum of the squares of all the odd positive integers smaller than m"
      ],
      "execution_count": null,
      "outputs": []
    },
    {
      "cell_type": "code",
      "metadata": {
        "id": "AkKzr_918d5N",
        "colab_type": "code",
        "colab": {
          "base_uri": "https://localhost:8080/",
          "height": 50
        },
        "outputId": "2036387c-6bf7-4222-eddc-664ed2b5a68d"
      },
      "source": [
        "number = int(input())\n",
        "print(\"The sum of squares of positive ODD integers less than {} is \".format(number) + str(osqr(number)))"
      ],
      "execution_count": null,
      "outputs": [
        {
          "output_type": "stream",
          "text": [
            "5\n",
            "The sum of squares of positive ODD integers less than 5 is 10\n"
          ],
          "name": "stdout"
        }
      ]
    },
    {
      "cell_type": "markdown",
      "metadata": {
        "id": "qbHeHfqq87_x",
        "colab_type": "text"
      },
      "source": [
        "# Problem 2\n",
        "*What parameter values should be sent to the range constructor to produce a range with values:*\n",
        "* (a) 60,70,80\n",
        "* (b) 4,2,0,-2,-4 "
      ]
    },
    {
      "cell_type": "markdown",
      "metadata": {
        "id": "sELVqWF9iJxO",
        "colab_type": "text"
      },
      "source": [
        "\n",
        "\n",
        "```\n",
        "range (60, 81, 10)\n",
        "```\n",
        "\n"
      ]
    },
    {
      "cell_type": "code",
      "metadata": {
        "id": "nXOdIeo58w_6",
        "colab_type": "code",
        "colab": {
          "base_uri": "https://localhost:8080/",
          "height": 34
        },
        "outputId": "30a9b901-2656-4904-9456-71abae77db09"
      },
      "source": [
        "# 2.a\n",
        "a=[] \n",
        "for i in range(60,81,10):\n",
        "    a.extend([i])\n",
        "print(*a)                 #for checking the values"
      ],
      "execution_count": null,
      "outputs": [
        {
          "output_type": "stream",
          "text": [
            "60 70 80\n"
          ],
          "name": "stdout"
        }
      ]
    },
    {
      "cell_type": "markdown",
      "metadata": {
        "id": "qMNm-w2aiSGd",
        "colab_type": "text"
      },
      "source": [
        "\n",
        "\n",
        "```\n",
        "range(4, -5, -2)\n",
        "```\n",
        "\n"
      ]
    },
    {
      "cell_type": "code",
      "metadata": {
        "id": "ALBQ8uSF9mwL",
        "colab_type": "code",
        "colab": {
          "base_uri": "https://localhost:8080/",
          "height": 34
        },
        "outputId": "5e7aaa7c-ce57-4f23-8043-d842a82ccfa3"
      },
      "source": [
        "# 2.b\n",
        "b=[]\n",
        "for i in range(4,-5,-2):\n",
        "    b.extend([i])\n",
        "print(*b)                 #for checking the values"
      ],
      "execution_count": null,
      "outputs": [
        {
          "output_type": "stream",
          "text": [
            "4 2 0 -2 -4\n"
          ],
          "name": "stdout"
        }
      ]
    },
    {
      "cell_type": "markdown",
      "metadata": {
        "id": "SwVKPNLn9pnj",
        "colab_type": "text"
      },
      "source": [
        "# Problem 3\n",
        "*Write a Python function that takes a sequence of integer values and determines if there is a distinct pair of numbers in the sequence whose product is odd*"
      ]
    },
    {
      "cell_type": "code",
      "metadata": {
        "id": "_nas-E9p9nql",
        "colab_type": "code",
        "colab": {}
      },
      "source": [
        "def ocheck(a):\n",
        "    for i in a:                   \n",
        "        for j in a:               # nested for loop in order to access all the elements of the list\n",
        "            if i!=j:              # check if the elements are distinct\n",
        "                product = i*j     # if elements are distinct, take their product\n",
        "                if product%2!=0:  # check if product is odd ----- if satisfied, return 'True'\n",
        "                    print(\"YES- distinct pair of numbers in the sequence whose product is odd EXISTS\")\n",
        "                    return True\n",
        "    print(\"NO- distinct pair of numbers in the sequence whose product is odd DOES NOT exist\")\n",
        "    return False                  # return 'False' otherwise (i.e \"no\" distinct pairs of numbers whose product is odd)"
      ],
      "execution_count": null,
      "outputs": []
    },
    {
      "cell_type": "code",
      "metadata": {
        "id": "z9BeQK9o-SQO",
        "colab_type": "code",
        "colab": {
          "base_uri": "https://localhost:8080/",
          "height": 67
        },
        "outputId": "51415a98-dc45-459d-8955-1b054d100af5"
      },
      "source": [
        "print(ocheck(list(map(int,input().split()))))   # input to the function ocheck is shredded to form a list (since the argument for ocheck is a list)"
      ],
      "execution_count": null,
      "outputs": [
        {
          "output_type": "stream",
          "text": [
            "2 4 3 6 7 4 8\n",
            "YES- distinct pair of numbers in the sequence whose product is odd EXISTS\n",
            "True\n"
          ],
          "name": "stdout"
        }
      ]
    },
    {
      "cell_type": "markdown",
      "metadata": {
        "id": "xZhfjD7D-uQg",
        "colab_type": "text"
      },
      "source": [
        "# Problem 4\n",
        "*Write a Python function that counts the number of vowels in a given character string*"
      ]
    },
    {
      "cell_type": "code",
      "metadata": {
        "id": "vAFw8Fnd-bBe",
        "colab_type": "code",
        "colab": {}
      },
      "source": [
        "def findvowel(a):                                             # creating a function to find the number of vowels in a given string\n",
        "    a = a.lower()                                             # converting all the letters of the string into lower case letters\n",
        "    count=0                                                   # count is set to zero\n",
        "    for i in a:                                               # iterating over the elements of the string\n",
        "        if i=='a' or i=='e' or i=='i' or i=='o' or i=='u':    # comparing the elements of the string with vowels\n",
        "            count+=1                                          # if the letter compared is a vowel, increment count by 1\n",
        "    return count                                              # retrun the value stored in count"
      ],
      "execution_count": null,
      "outputs": []
    },
    {
      "cell_type": "code",
      "metadata": {
        "id": "ea7BxExq_B2o",
        "colab_type": "code",
        "colab": {
          "base_uri": "https://localhost:8080/",
          "height": 50
        },
        "outputId": "7898df03-c3fc-4e29-996a-5c78c02d89c7"
      },
      "source": [
        "print(\"number of vowels in the given string = \" + str(findvowel(input())))"
      ],
      "execution_count": null,
      "outputs": [
        {
          "output_type": "stream",
          "text": [
            "abcde fghij\n",
            "number of vowels in the given string = 3\n"
          ],
          "name": "stdout"
        }
      ]
    },
    {
      "cell_type": "markdown",
      "metadata": {
        "id": "61IZdDlw_KYQ",
        "colab_type": "text"
      },
      "source": [
        "# Problem 5\n",
        "*Write a Python program that takes as input three integers, “a”, “b” and “c”, from the console and determines if they can be used in the following arithmetic formulas:*\n",
        "* (i) “a+b=c” \n",
        "* (ii) “a=b-c” \n",
        "* (iii) “a*b=c”."
      ]
    },
    {
      "cell_type": "code",
      "metadata": {
        "id": "kbQ5r6vf_E3P",
        "colab_type": "code",
        "colab": {
          "base_uri": "https://localhost:8080/",
          "height": 50
        },
        "outputId": "1c79e009-df61-4c08-e751-00f2c1ef3be9"
      },
      "source": [
        "a= list(map(int,input().split()))                       # creating a list for ease \n",
        "\n",
        "if a[0]+a[1] == a[2]:                                   # checking case (i)\n",
        "    print(\"a+b=c or {}+{}={}\".format(a[0],a[1],a[2]))\n",
        "if a[0]+a[2] == a[1]:                                   # checking case (ii)\n",
        "    print(\"a=b-c or {}={}-{}\".format(a[0],a[1],a[2]))\n",
        "if a[0]*a[1] == a[2]:                                   # checking case (iii)\n",
        "    print(\"a*b=c or {}*{}={}\".format(a[0],a[1],a[2]))"
      ],
      "execution_count": null,
      "outputs": [
        {
          "output_type": "stream",
          "text": [
            "3 6 3\n",
            "a=b-c or 3=6-3\n"
          ],
          "name": "stdout"
        }
      ]
    },
    {
      "cell_type": "markdown",
      "metadata": {
        "id": "ox_czjBS_09g",
        "colab_type": "text"
      },
      "source": [
        "# Problem 6 (Project)\n",
        "*Design a program that can test the [Birthday problem](https://en.wikipedia.org/wiki/Birthday_problem), by a series of experiments, on randomly generated birthdays which test this paradox for n=5,10,15,20,25,30...200.*"
      ]
    },
    {
      "cell_type": "code",
      "metadata": {
        "id": "_aTLwcDkEkpV",
        "colab_type": "code",
        "colab": {}
      },
      "source": [
        "import random                                                                                                 # imporing 'random' libarary to generate random numbers for testing the birthday problem"
      ],
      "execution_count": null,
      "outputs": []
    },
    {
      "cell_type": "code",
      "metadata": {
        "id": "zWcY_yQ3YcTe",
        "colab_type": "code",
        "colab": {
          "base_uri": "https://localhost:8080/",
          "height": 1000
        },
        "outputId": "32d5ba08-9569-41cf-e631-526cf8f2d583"
      },
      "source": [
        "# Program for printing the test result values of Birthday problem\n",
        "\n",
        "print(\"Enter the number of iterations to check on: \")\n",
        "largetest= int(input())                                                                                       # getting inputs from the keyboard (for the number of iterations to make) ---- LARGER the number you put, LONGER it will take for the code to  run\n",
        "\n",
        "a=[]                                                                                                          # array for storing the tested value (which can be used for ploting later)\n",
        "\n",
        "\n",
        "for i in range(5, 201, 5):                                                                                    # range constructor for iterating from 5 to 200 (inclusive) with a seperation of 5\n",
        "    print(\"The number selected= \"+ str(i))\n",
        "    p=[]                                                                                                      # Binary array used to store the success (True) and Failiure (False) of testcases to check the probability of each n\n",
        "\n",
        "    for m in range(largetest):                                                                                # 'm' iterating through [largetest]== number of iterations\n",
        "        birthdays=[]                                                                                          # this array is used to store the randomly generated numbers (birthdays)\n",
        "        for k in range(i):                                                                                    # loop for iterating n number of times (i==n)\n",
        "            birthdays.extend([random.randrange(0,365)])                                                       # creating random numbers from 0 to 365 and appending the elements to the list/array 'birthdays'\n",
        "        \n",
        "        if any(birthdays.count(element) > 1 for element in birthdays):                                        # if len(birthdays) != len(set(birthdays)):\n",
        "            p.append(True)                                                                                    # if there is atleast two people having the same birthday (i.e same number), then append 'True' to the array 'p'\n",
        "        else:                                                                                                 # otherwise append 'False' to the array p\n",
        "            p.append(False)\n",
        "\n",
        "    a.append([float(sum(p))/float(largetest)*100])                                                            # append the \"probability of finding a 'True' (i.e atleast two people having the same birthday) from the array 'p'\" to the array 'a' \n",
        "    print(str(a[int(i/5)-1][0])+ \"%\" +\" on test \\n\")                                                          # print the probability\n",
        "\n"
      ],
      "execution_count": null,
      "outputs": [
        {
          "output_type": "stream",
          "text": [
            "Enter the number of iterations to check on: \n",
            "10000\n",
            "The number selected= 5\n",
            "2.7% on test \n",
            "\n",
            "The number selected= 10\n",
            "11.799999999999999% on test \n",
            "\n",
            "The number selected= 15\n",
            "25.990000000000002% on test \n",
            "\n",
            "The number selected= 20\n",
            "40.99% on test \n",
            "\n",
            "The number selected= 25\n",
            "55.720000000000006% on test \n",
            "\n",
            "The number selected= 30\n",
            "70.38% on test \n",
            "\n",
            "The number selected= 35\n",
            "81.08% on test \n",
            "\n",
            "The number selected= 40\n",
            "89.32% on test \n",
            "\n",
            "The number selected= 45\n",
            "94.07% on test \n",
            "\n",
            "The number selected= 50\n",
            "97.02% on test \n",
            "\n",
            "The number selected= 55\n",
            "98.72% on test \n",
            "\n",
            "The number selected= 60\n",
            "99.41% on test \n",
            "\n",
            "The number selected= 65\n",
            "99.72999999999999% on test \n",
            "\n",
            "The number selected= 70\n",
            "99.92999999999999% on test \n",
            "\n",
            "The number selected= 75\n",
            "99.98% on test \n",
            "\n",
            "The number selected= 80\n",
            "100.0% on test \n",
            "\n",
            "The number selected= 85\n",
            "99.99% on test \n",
            "\n",
            "The number selected= 90\n",
            "100.0% on test \n",
            "\n",
            "The number selected= 95\n",
            "100.0% on test \n",
            "\n",
            "The number selected= 100\n",
            "100.0% on test \n",
            "\n",
            "The number selected= 105\n",
            "100.0% on test \n",
            "\n",
            "The number selected= 110\n",
            "100.0% on test \n",
            "\n",
            "The number selected= 115\n",
            "100.0% on test \n",
            "\n",
            "The number selected= 120\n",
            "100.0% on test \n",
            "\n",
            "The number selected= 125\n",
            "100.0% on test \n",
            "\n",
            "The number selected= 130\n",
            "100.0% on test \n",
            "\n",
            "The number selected= 135\n",
            "100.0% on test \n",
            "\n",
            "The number selected= 140\n",
            "100.0% on test \n",
            "\n",
            "The number selected= 145\n",
            "100.0% on test \n",
            "\n",
            "The number selected= 150\n",
            "100.0% on test \n",
            "\n",
            "The number selected= 155\n",
            "100.0% on test \n",
            "\n",
            "The number selected= 160\n",
            "100.0% on test \n",
            "\n",
            "The number selected= 165\n",
            "100.0% on test \n",
            "\n",
            "The number selected= 170\n",
            "100.0% on test \n",
            "\n",
            "The number selected= 175\n",
            "100.0% on test \n",
            "\n",
            "The number selected= 180\n",
            "100.0% on test \n",
            "\n",
            "The number selected= 185\n",
            "100.0% on test \n",
            "\n",
            "The number selected= 190\n",
            "100.0% on test \n",
            "\n",
            "The number selected= 195\n",
            "100.0% on test \n",
            "\n",
            "The number selected= 200\n",
            "100.0% on test \n",
            "\n"
          ],
          "name": "stdout"
        }
      ]
    },
    {
      "cell_type": "code",
      "metadata": {
        "id": "slWbdlKJZUFB",
        "colab_type": "code",
        "colab": {
          "base_uri": "https://localhost:8080/",
          "height": 312
        },
        "outputId": "5e602133-68fb-473c-a925-88d87b0d986d"
      },
      "source": [
        "# Code for plotting the tested data\n",
        "\n",
        "import matplotlib.pyplot as plt                                                                                 # importing matplotlib libarary for plotting\n",
        "\n",
        "x=[]\n",
        "for i in range(5,201, 5):                                                                                       # scaling the x-axis\n",
        "  x.extend([i])\n",
        "\n",
        "plt.plot(x, a)                                                                                                  # plotting the graph of the computed probability of at least two people sharing a birthday versus the number of people\n",
        "\n",
        "plt.title('The computed probability of at least two people sharing a birthday versus the number of people')\n",
        "plt.xlabel('number of people')\n",
        "plt.ylabel('probability of a pair')\n",
        "# plt.xticks(np.arange(5, 201, 5))"
      ],
      "execution_count": null,
      "outputs": [
        {
          "output_type": "execute_result",
          "data": {
            "text/plain": [
              "Text(0, 0.5, 'probability of a pair')"
            ]
          },
          "metadata": {
            "tags": []
          },
          "execution_count": 15
        },
        {
          "output_type": "display_data",
          "data": {
            "image/png": "[encoded data removed]",
            "text/plain": [
              "<Figure size 432x288 with 1 Axes>"
            ]
          },
          "metadata": {
            "tags": [],
            "needs_background": "light"
          }
        }
      ]
    },
    {
      "cell_type": "markdown",
      "metadata": {
        "id": "nZNJ6FgqZVIu",
        "colab_type": "text"
      },
      "source": [
        "### Addon codes for comparing the theoritical values with the Tested value. \n",
        "***Feel free to ignore the following code***"
      ]
    },
    {
      "cell_type": "markdown",
      "metadata": {
        "id": "i8DWCPRJcjIM",
        "colab_type": "text"
      },
      "source": [
        "\n",
        "\n",
        "```\n",
        "def numerator(a, n):\n",
        "    num=1\n",
        "    b=a-n\n",
        "    for i in range(b+1,a,1):\n",
        "        num=num*i\n",
        "    return float(num)\n",
        "```\n",
        "\n"
      ]
    },
    {
      "cell_type": "markdown",
      "metadata": {
        "id": "DGDmKEuWcoyo",
        "colab_type": "text"
      },
      "source": [
        "\n",
        "\n",
        "```\n",
        "def denominator(a, n):\n",
        "    den=1\n",
        "    for i in range(n-1):\n",
        "        den= den*a\n",
        "    return float(den)\n",
        "```\n",
        "\n"
      ]
    },
    {
      "cell_type": "markdown",
      "metadata": {
        "id": "D43N_9jccr4r",
        "colab_type": "text"
      },
      "source": [
        "\n",
        "\n",
        "```\n",
        "def probability(n, numberofdays):\n",
        "    if n<=120:                                               # ease of computation & Precise answers for values less than or equal to 120\n",
        "        num= numerator( numberofdays ,n)\n",
        "        den= denominator( numberofdays ,n)\n",
        "        probab= 1- num/den\n",
        "        return probab*100\n",
        "    else:                                                    # Not so precice, but can be computed for larger numbers easily\n",
        "        probab_inv=1\n",
        "        for i in range(n):\n",
        "            probab_inv= probab_inv*(1 - float(n)/float(numberofdays))\n",
        "        return probab_inv\n",
        "```\n",
        "\n"
      ]
    },
    {
      "cell_type": "markdown",
      "metadata": {
        "id": "uPGZmpDQdEK5",
        "colab_type": "text"
      },
      "source": [
        "\n",
        "\n",
        "```\n",
        "# Program for printing the test result values of Birthday problem\n",
        "\n",
        "print(\"Enter the number of iterations to check on: \")\n",
        "largetest= int(input())                                                                                     #getting inputs from the keyboard (for the number of iterations to make) ---- LARGER the number you put, LONGER it will take for the code to  run\n",
        "\n",
        "a=[]                                                                                                        #array for storing the tested value (which can be used for ploting later)\n",
        "\n",
        "\n",
        "################################ Please remove the following comments from line 8 to line 11 if you want to check and compare the tested values with the theoritical values\n",
        "\n",
        "b=[] #array for storing the theoritical value                                                                 \n",
        "c=[] #array for storing the error (for later analysis puroses)\n",
        "\n",
        "#-------------------------------\n",
        "\n",
        "\n",
        "\n",
        "for i in range(5, 201, 5):                                                                                    # range constructor for iterating from 5 to 200 (inclusive) with a seperation of 5\n",
        "    print(\"The number selected= \"+ str(i))\n",
        "    p=[]                                                                                                      # Binary array used to store the success (True) and Failiure (False) of testcases to check the probability of each n\n",
        "\n",
        "    for m in range(largetest):                                                                                # 'm' iterating through [largetest]== number of iterations\n",
        "        birthdays=[]                                                                                          # this array is used to store the randomly generated numbers (birthdays)\n",
        "        for k in range(i):                                                                                    # loop for iterating n number of times (i==n)\n",
        "            birthdays.extend([random.randrange(0,365)])                                                       # creating random numbers from 0 to 365 and appending the elements to the list/array 'birthdays'\n",
        "        \n",
        "        if any(birthdays.count(element) > 1 for element in birthdays):                                        # if len(birthdays) != len(set(birthdays)):\n",
        "            p.append(True)                                                                                    # if there is atleast two people having the same birthday (i.e same number), then append 'True' to the array 'p'\n",
        "        else:                                                                                                 # otherwise append 'False' to the array p\n",
        "            p.append(False)\n",
        "\n",
        "    a.append([float(sum(p))/float(largetest)*100])                                                            # append the \"probability of finding a 'True' (i.e atleast two people having the same birthday) from the array 'p'\" to the array 'a' \n",
        "    print(str(a[int(i/5)-1][0])+ \"%\" +\" on test \\n\")                                                          # print the probability\n",
        "\n",
        "\n",
        "\n",
        "############################## Please remove the following comments from line 36 to line 49 if want to compare and the tested value with the theoritical value\n",
        "    \n",
        "    if i<=120:\n",
        "        b.append([probability(i,365)])\n",
        "        print(str(b[int(i/5)-1][0])+ \"%\" + \"  on theory \\n\")\n",
        "\n",
        "        c.append([100- probability(i,365)-float(sum(p))/float(largetest)*100])\n",
        "        print(\"Theory - test= \" + str(c[int(i/5)-1][0]) + \"% \\n\\n\")\n",
        "    else:\n",
        "        b.append([100- probability(i,365)])\n",
        "        print(\"(100 - \"+ str(b[int(i/5)-1][0])+ \") %\" + \"  on theory \\n\")\n",
        "\n",
        "        c.append([100 - probability(i,365) -float(sum(p))/float(largetest)*100])\n",
        "        print(\"Theory - test= \" + str(c[int(i/5)-1][0]) + \"% \\n\\n\")\n",
        "    \n",
        "#------------------------------\n",
        "```\n",
        "\n"
      ]
    },
    {
      "cell_type": "markdown",
      "metadata": {
        "id": "px-QgyYpdTNQ",
        "colab_type": "text"
      },
      "source": [
        "\n",
        "\n",
        "```\n",
        "import matplotlib.pyplot as plt \n",
        "\n",
        "x=[]\n",
        "for i in range(5,201, 5):\n",
        "  x.extend([i])\n",
        "\n",
        "plt.plot(x, a)\n",
        "plt.plot(x, b)\n",
        "plt.plot(x, c)\n",
        "```\n",
        "\n"
      ]
    }
  ]
}